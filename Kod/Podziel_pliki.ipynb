{
 "cells": [
  {
   "cell_type": "code",
   "execution_count": 216,
   "metadata": {},
   "outputs": [],
   "source": [
    "# '''\n",
    "# Authors:\n",
    "#     Joanna Niedziałek\n",
    "#     Karolina Dębowska\n",
    "# '''"
   ]
  },
  {
   "cell_type": "code",
   "execution_count": 217,
   "metadata": {
    "colab": {
     "background_save": true
    },
    "id": "gDGhfh8jLLmb",
    "outputId": "bf8b0c37-2f79-4c8d-98a4-70a918c1eae2"
   },
   "outputs": [],
   "source": [
    "# pip install pydub"
   ]
  },
  {
   "cell_type": "code",
   "execution_count": 218,
   "metadata": {
    "id": "CBgGwH_QsUMm"
   },
   "outputs": [],
   "source": [
    "import wave\n",
    "from pydub import AudioSegment as auds\n",
    "import pandas as pd\n",
    "import numpy as np\n",
    "import os, fnmatch"
   ]
  },
  {
   "cell_type": "code",
   "execution_count": 219,
   "metadata": {},
   "outputs": [],
   "source": [
    "# Bledy dla plikow:\n",
    "# '289556_24_K_19_3' , '404907_23_K_14_2' , '404907_23_K_20_4' i '404907_23_K_16_3'\n"
   ]
  },
  {
   "cell_type": "code",
   "execution_count": 220,
   "metadata": {},
   "outputs": [
    {
     "name": "stdout",
     "output_type": "stream",
     "text": [
      "289516_25_K_01_2.txt 289516_25_K_01_2.wav\n",
      "liczba plikow:  20\n"
     ]
    }
   ],
   "source": [
    "# Sciezka\n",
    "path = 'C:/<Wlasna sciezka>/Nagrania'\n",
    "\n",
    "# Wyciaganie nazw plikow ze sciezki\n",
    "list_of_files = os.listdir(path)\n",
    "pattern = \"*.txt\"\n",
    "# print(list_of_files)\n",
    "list_of_names = []\n",
    "for entry in list_of_files:\n",
    "    if fnmatch.fnmatch(entry, pattern):\n",
    "            list_of_names.append(entry[:-4])\n",
    "#             print(entry[:-4])\n",
    "\n",
    "# print(list_of_names[0], list_of_names[1], list_of_names[2])\n",
    "\n",
    "# Utworzenie list plikow wav i txt\n",
    "files_wav_list = []\n",
    "files_txt_list = []\n",
    "for filename in list_of_names:\n",
    "    files_wav_list.append(filename + '.wav')\n",
    "    files_txt_list.append(filename + '.txt')\n",
    "\n",
    "print(files_txt_list[0], files_wav_list[0])\n",
    "print('liczba plikow: ', len(list_of_names))"
   ]
  },
  {
   "cell_type": "code",
   "execution_count": 221,
   "metadata": {},
   "outputs": [
    {
     "name": "stdout",
     "output_type": "stream",
     "text": [
      "289556_24_K_19_3.wav 289556_24_K_19_3.txt\n"
     ]
    }
   ],
   "source": [
    "# Wybor pliku\n",
    "nr = 14\n",
    "filename = list_of_names[nr]\n",
    "file_wav = files_wav_list[nr]\n",
    "file_txt = files_txt_list[nr]\n",
    "print(file_wav, file_txt)"
   ]
  },
  {
   "cell_type": "code",
   "execution_count": 222,
   "metadata": {
    "colab": {
     "base_uri": "https://localhost:8080/"
    },
    "id": "gv6JDChv0V9v",
    "outputId": "cba0a962-b923-41bc-f22e-c42d3e9074df"
   },
   "outputs": [
    {
     "name": "stdout",
     "output_type": "stream",
     "text": [
      "Start pierwszego słowa 1,029609\n",
      "Koniec pierwszego słowa 1,951468\n"
     ]
    },
    {
     "ename": "TypeError",
     "evalue": "unsupported operand type(s) for -: 'str' and 'str'",
     "output_type": "error",
     "traceback": [
      "\u001b[1;31m---------------------------------------------------------------------------\u001b[0m",
      "\u001b[1;31mTypeError\u001b[0m                                 Traceback (most recent call last)",
      "\u001b[1;32m<ipython-input-222-b998079de163>\u001b[0m in \u001b[0;36m<module>\u001b[1;34m\u001b[0m\n\u001b[0;32m      5\u001b[0m \u001b[0mprint\u001b[0m\u001b[1;33m(\u001b[0m\u001b[1;34m'Start pierwszego słowa'\u001b[0m\u001b[1;33m,\u001b[0m \u001b[0mtextfile\u001b[0m\u001b[1;33m[\u001b[0m\u001b[1;36m0\u001b[0m\u001b[1;33m]\u001b[0m\u001b[1;33m[\u001b[0m\u001b[1;36m0\u001b[0m\u001b[1;33m]\u001b[0m\u001b[1;33m)\u001b[0m\u001b[1;33m\u001b[0m\u001b[1;33m\u001b[0m\u001b[0m\n\u001b[0;32m      6\u001b[0m \u001b[0mprint\u001b[0m\u001b[1;33m(\u001b[0m\u001b[1;34m'Koniec pierwszego słowa'\u001b[0m\u001b[1;33m,\u001b[0m \u001b[0mtextfile\u001b[0m\u001b[1;33m[\u001b[0m\u001b[1;36m1\u001b[0m\u001b[1;33m]\u001b[0m\u001b[1;33m[\u001b[0m\u001b[1;36m0\u001b[0m\u001b[1;33m]\u001b[0m\u001b[1;33m)\u001b[0m\u001b[1;33m\u001b[0m\u001b[1;33m\u001b[0m\u001b[0m\n\u001b[1;32m----> 7\u001b[1;33m \u001b[0mprint\u001b[0m\u001b[1;33m(\u001b[0m\u001b[1;34m'Różnica (czas trwania pierwszego słowa):'\u001b[0m\u001b[1;33m,\u001b[0m \u001b[0mtextfile\u001b[0m\u001b[1;33m[\u001b[0m\u001b[1;36m1\u001b[0m\u001b[1;33m]\u001b[0m\u001b[1;33m[\u001b[0m\u001b[1;36m0\u001b[0m\u001b[1;33m]\u001b[0m \u001b[1;33m-\u001b[0m \u001b[0mtextfile\u001b[0m\u001b[1;33m[\u001b[0m\u001b[1;36m0\u001b[0m\u001b[1;33m]\u001b[0m\u001b[1;33m[\u001b[0m\u001b[1;36m0\u001b[0m\u001b[1;33m]\u001b[0m\u001b[1;33m)\u001b[0m\u001b[1;33m\u001b[0m\u001b[1;33m\u001b[0m\u001b[0m\n\u001b[0m\u001b[0;32m      8\u001b[0m \u001b[0mprint\u001b[0m\u001b[1;33m(\u001b[0m\u001b[1;34m'Etykieta pierwszego słowa:'\u001b[0m\u001b[1;33m,\u001b[0m \u001b[0mtextfile\u001b[0m\u001b[1;33m[\u001b[0m\u001b[1;36m2\u001b[0m\u001b[1;33m]\u001b[0m\u001b[1;33m[\u001b[0m\u001b[1;36m0\u001b[0m\u001b[1;33m]\u001b[0m\u001b[1;33m)\u001b[0m\u001b[1;33m\u001b[0m\u001b[1;33m\u001b[0m\u001b[0m\n",
      "\u001b[1;31mTypeError\u001b[0m: unsupported operand type(s) for -: 'str' and 'str'"
     ]
    }
   ],
   "source": [
    "# Wczytywanie plikow\n",
    "first = wave.open(path + '/' + file_wav, 'rb')\n",
    "first_auds = auds.from_wav(path + '/' + file_wav)\n",
    "textfile = pd.read_csv(path + '/' + file_txt, sep = '\\t', header = None)\n",
    "print('Start pierwszego słowa', textfile[0][0])\n",
    "print('Koniec pierwszego słowa', textfile[1][0])\n",
    "print('Różnica (czas trwania pierwszego słowa):', textfile[1][0] - textfile[0][0])\n",
    "print('Etykieta pierwszego słowa:', textfile[2][0])"
   ]
  },
  {
   "cell_type": "code",
   "execution_count": null,
   "metadata": {},
   "outputs": [],
   "source": [
    "# Poprawianie etykiet\n",
    "labels = []\n",
    "for i in range(0,100):\n",
    "    labels.append(str(textfile[2][i]))\n",
    "    if labels[i] == 'nan':\n",
    "        labels[i] = 'NA'\n",
    "    labels[i] = labels[i].upper()      # Jesli sa male litery to zamienia na duze\n",
    "#     print(labels[i])"
   ]
  },
  {
   "cell_type": "code",
   "execution_count": null,
   "metadata": {},
   "outputs": [],
   "source": [
    "# Tworzenie folderow na kazde slowo / sprawdzanie czy juz sa\n",
    "for i in range(0, 100):\n",
    "    folder_path = path + '/' + labels[i]\n",
    "    if os.path.isdir(folder_path) == False:\n",
    "        os.mkdir(folder_path)\n",
    "#     else:\n",
    "#         print('Folder ' + labels[i] + ' istnieje')"
   ]
  },
  {
   "cell_type": "code",
   "execution_count": null,
   "metadata": {
    "colab": {
     "base_uri": "https://localhost:8080/"
    },
    "id": "X6cqoN2Nk14S",
    "outputId": "567ec3cc-8790-498f-cd61-2fa67623fab5"
   },
   "outputs": [],
   "source": [
    "# Wyciaganie i zapisywanie fragmentow w odpowiednich folderach\n",
    "length = first.getnframes() / first.getframerate()  # długość całego pliku\n",
    "fp = first.getframerate()                           # częstotliwość próbkowania\n",
    "frames = first.readframes(first.getnframes())\n",
    "print('Długość trwania pliku audio:', length, 's.')\n",
    "print('Ilość ramek:', first.getnframes())\n",
    "slowo = []\n",
    "poczatek = []\n",
    "koniec = []\n",
    "for i in range(0, 100):\n",
    "    folder_path = path + '/' + labels[i]\n",
    "    print(i)\n",
    "    # Sprawdzanie czy jest juz dany plik w sciezce, jak nie to tworzy\n",
    "    if os.path.isfile(folder_path + '/' + filename + '_' + '{0}.wav'.format(labels[i])) == False:\n",
    "        poczatek.append(int(np.floor(textfile[0][i]*fp))) # numer ramki początku słowa\n",
    "        koniec.append(int(np.ceil(textfile[1][i]*fp)))    # numer ramki końca słowa\n",
    "        slowo.append(first_auds[int(poczatek[i]*1000/fp):int(koniec[i]*1000/fp)]) # 1000 bo w AudioSegment robi w [ms]\n",
    "        slowo[i].export(folder_path + '/' + filename + '_' + '{0}.wav'.format(labels[i]), format='wav')"
   ]
  },
  {
   "cell_type": "code",
   "execution_count": null,
   "metadata": {
    "colab": {
     "base_uri": "https://localhost:8080/",
     "height": 36
    },
    "id": "i34VSheK26gi",
    "outputId": "0d6e98e3-977c-465b-d6c1-e13add09b311"
   },
   "outputs": [],
   "source": [
    "# textfile[2][0]"
   ]
  },
  {
   "cell_type": "code",
   "execution_count": null,
   "metadata": {
    "colab": {
     "base_uri": "https://localhost:8080/"
    },
    "id": "8uUs7D5xviMC",
    "outputId": "1e965fe9-125b-466e-fe2b-0358ada865ae"
   },
   "outputs": [],
   "source": [
    "# # Sprawdzanie wczytywania slowa z nowej sciezki\n",
    "# folder_path = path + '/' + 'OTWORZ'\n",
    "# otworz_1 = wave.open(folder_path + '/' + filename + '_' + 'OTWORZ.wav', 'rb')\n",
    "# dlugosc_otworz_1 = otworz_1.getnframes() / otworz_1.getframerate()\n",
    "# #dlugosc_otworz_1 = (koniec[0] - poczatek[0]) / fp\n",
    "# print('Długość słowa otwórz:', dlugosc_otworz_1, 's.')\n",
    "# print('Poczatek[0] = ramka nr', poczatek[0], ', koniec[0] = ramka nr', koniec[0])"
   ]
  },
  {
   "cell_type": "code",
   "execution_count": null,
   "metadata": {},
   "outputs": [],
   "source": []
  }
 ],
 "metadata": {
  "colab": {
   "collapsed_sections": [],
   "name": "Eksploracja.ipynb",
   "provenance": []
  },
  "kernelspec": {
   "display_name": "Python 3",
   "language": "python",
   "name": "python3"
  },
  "language_info": {
   "codemirror_mode": {
    "name": "ipython",
    "version": 3
   },
   "file_extension": ".py",
   "mimetype": "text/x-python",
   "name": "python",
   "nbconvert_exporter": "python",
   "pygments_lexer": "ipython3",
   "version": "3.7.7"
  }
 },
 "nbformat": 4,
 "nbformat_minor": 1
}
