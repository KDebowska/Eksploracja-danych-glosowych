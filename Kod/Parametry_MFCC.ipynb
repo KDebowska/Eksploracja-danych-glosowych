{
 "cells": [
  {
   "cell_type": "code",
   "execution_count": 55,
   "metadata": {},
   "outputs": [],
   "source": [
    "# pip install pydup\n",
    "# pip install librosa"
   ]
  },
  {
   "cell_type": "code",
   "execution_count": 56,
   "metadata": {},
   "outputs": [],
   "source": [
    "import wave\n",
    "from pydub import AudioSegment as auds\n",
    "import pandas as pd\n",
    "import numpy as np\n",
    "import os, fnmatch\n",
    "from matplotlib import pyplot as plt\n",
    "import scipy.io.wavfile as wf\n",
    "from scipy.integrate import simps\n",
    "from scipy.fftpack import dct\n",
    "# import librosa\n",
    "import numpy as np"
   ]
  },
  {
   "cell_type": "code",
   "execution_count": 57,
   "metadata": {},
   "outputs": [
    {
     "name": "stdout",
     "output_type": "stream",
     "text": [
      "Obecne pliki:\n",
      "289516_25_K_01_2.txt 289516_25_K_01_2.wav\n",
      "289516_25_K_10_3.txt 289516_25_K_10_3.wav\n",
      "289516_25_K_16_4.txt 289516_25_K_16_4.wav\n",
      "289516_25_K_22_1.txt 289516_25_K_22_1.wav\n",
      "289540_23_K_13_2.txt 289540_23_K_13_2.wav\n",
      "289540_23_K_18_3.txt 289540_23_K_18_3.wav\n",
      "289540_23_K_22_4.txt 289540_23_K_22_4.wav\n",
      "289540_23_K_9_1.txt 289540_23_K_9_1.wav\n",
      "289550_23_K_18_2.txt 289550_23_K_18_2.wav\n",
      "289550_23_K_23_3.txt 289550_23_K_23_3.wav\n",
      "289550_23_K_23_4.txt 289550_23_K_23_4.wav\n",
      "289550_23_K_9_1.txt 289550_23_K_9_1.wav\n",
      "289556_24_K_11_1.txt 289556_24_K_11_1.wav\n",
      "289556_24_K_15_2.txt 289556_24_K_15_2.wav\n",
      "289556_24_K_19_3.txt 289556_24_K_19_3.wav\n",
      "289556_24_K_23_4.txt 289556_24_K_23_4.wav\n",
      "404907_23_K_11_1.txt 404907_23_K_11_1.wav\n",
      "404907_23_K_14_2.txt 404907_23_K_14_2.wav\n",
      "404907_23_K_16_3.txt 404907_23_K_16_3.wav\n",
      "404907_23_K_20_4.txt 404907_23_K_20_4.wav\n",
      "liczba plikow:  20\n"
     ]
    }
   ],
   "source": [
    "# Sciezka\n",
    "path = 'C:/Users/karol/Desktop/AGH/MAGISTERKA/SEMESTR 3/Eksploracja i Glosowa/Nagrania'\n",
    "\n",
    "# Wyciaganie nazw plikow ze sciezki\n",
    "list_of_files = os.listdir(path)\n",
    "pattern = \"*.txt\"\n",
    "list_of_names = []\n",
    "for entry in list_of_files:\n",
    "    if fnmatch.fnmatch(entry, pattern):\n",
    "            list_of_names.append(entry[:-4])\n",
    "\n",
    "# Utworzenie list plikow wav i txt\n",
    "files_wav_list = []\n",
    "files_txt_list = []\n",
    "for filename in list_of_names:\n",
    "    files_wav_list.append(filename + '.wav')\n",
    "    files_txt_list.append(filename + '.txt')\n",
    "    \n",
    "print('Obecne pliki:')\n",
    "\n",
    "for i in range(len(list_of_names)):\n",
    "    print(files_txt_list[i], files_wav_list[i])\n",
    "print('liczba plikow: ', len(list_of_names))"
   ]
  },
  {
   "cell_type": "code",
   "execution_count": 58,
   "metadata": {},
   "outputs": [],
   "source": [
    "# Wczytywanie plikow z etykietami\n",
    "textfile = pd.read_csv(path + '/' + file_txt, sep = '\\t', header = None)\n",
    "\n",
    "# Poprawianie etykiet\n",
    "labels = []\n",
    "for i in range(0,100):\n",
    "    labels.append(str(textfile[2][i]))\n",
    "    if labels[i] == 'nan':\n",
    "        labels[i] = 'NA'\n",
    "    labels[i] = labels[i].upper()      # Jesli sa male litery to zamienia na duze\n",
    "#     print(labels[i])"
   ]
  },
  {
   "cell_type": "code",
   "execution_count": 120,
   "metadata": {},
   "outputs": [
    {
     "name": "stdout",
     "output_type": "stream",
     "text": [
      "289516_25_K_10_3_OTWORZ.wav\n",
      "(123, 12)\n",
      "Długość sygnału: 55345\n",
      "Czas w sekundach: 1.2549886621315194\n",
      "Liczba ramek: 123\n"
     ]
    },
    {
     "data": {
      "text/plain": [
       "Text(0, 0.5, 'Współczynniki MFCC')"
      ]
     },
     "execution_count": 120,
     "metadata": {},
     "output_type": "execute_result"
    },
    {
     "data": {
      "image/png": "[encoded data removed]",
      "text/plain": [
       "<Figure size 432x288 with 1 Axes>"
      ]
     },
     "metadata": {
      "needs_background": "light"
     },
     "output_type": "display_data"
    },
    {
     "data": {
      "image/png": "[encoded data removed]",
      "text/plain": [
       "<Figure size 432x288 with 1 Axes>"
      ]
     },
     "metadata": {
      "needs_background": "light"
     },
     "output_type": "display_data"
    }
   ],
   "source": [
    "# # Wybor pliku\n",
    "nr = 1\n",
    "filename = list_of_names[nr]\n",
    "# file_wav = files_wav_list[nr]\n",
    "# file_txt = files_txt_list[nr]\n",
    "# print(file_wav, file_txt)\n",
    "\n",
    "nr_word = 0\n",
    "path_word = path + \"/\" + labels[nr_word]\n",
    "print(filename + '_' + labels[nr_word] + '.wav')\n",
    "\n",
    "# korzystałam z: https://haythamfayek.com/2016/04/21/speech-processing-for-machine-learning.html\n",
    "\n",
    "# Wczytanie słowa\n",
    "sample_rate, signal = wf.read(path_word + '/' + filename + '_' + labels[nr_word] + '.wav')\n",
    "\n",
    "plt.figure()\n",
    "plt.plot(signal)\n",
    "\n",
    "# Preemfaza\n",
    "pre_emphasis = 0.97 # parametr\n",
    "emphasized_signal = np.append(signal[0], signal[1:] - pre_emphasis * signal[:-1])\n",
    "\n",
    "# Formowanie ramek\n",
    "frame_size = 0.025\n",
    "frame_stride = 0.01 # bo sygnał jest w ms\n",
    "frame_length, frame_step = frame_size * sample_rate, frame_stride * sample_rate # zamiana z sekund na próbki\n",
    "signal_length = len(emphasized_signal)\n",
    "frame_length = int(round(frame_length))\n",
    "frame_step = int(round(frame_step))\n",
    "num_frames = int(np.ceil(float(np.abs(signal_length - frame_length)) / frame_step))  # Sprawdzanie czy jest chociaż jedna ramka\n",
    "\n",
    "pad_signal_length = num_frames * frame_step + frame_length\n",
    "z = np.zeros((pad_signal_length - signal_length))\n",
    "pad_signal = np.append(emphasized_signal, z) # Upewnianie się, że wszystkie ramki mają równą liczbę próbek bez obcinania jakichkolwiek próbek z oryginalnego sygnału\n",
    "\n",
    "indices = np.tile(np.arange(0, frame_length), (num_frames, 1)) + np.tile(np.arange(0, num_frames * frame_step, frame_step), (frame_length, 1)).T\n",
    "frames = pad_signal[indices.astype(np.int32, copy=False)]\n",
    "\n",
    "# Okienkowanie\n",
    "frames = frames * np.hamming(frame_length) # Hamming najczęściej stosowany w rozpoznaniu mowy\n",
    "\n",
    "# FFT i Power Spectrum // powstaje widmo liniowe\n",
    "NFFT = 512\n",
    "mag_frames = np.absolute(np.fft.rfft(frames, NFFT))  # Magnitude of the FFT\n",
    "pow_frames = ((1.0 / NFFT) * ((mag_frames) ** 2))  # Power Spectrum\n",
    "\n",
    "# Bank filtrów // powstaje widmo melowe\n",
    "nfilt = 40\n",
    "low_freq_mel = 0\n",
    "high_freq_mel = (2595 * np.log10(1 + (sample_rate / 2) / 700))  # Konwersja Hz do Mel\n",
    "mel_points = np.linspace(low_freq_mel, high_freq_mel, nfilt + 2)  # Równo rozmieszczona skala Mel\n",
    "hz_points = (700 * (10**(mel_points / 2595) - 1))  # Konwersja Mel do Hz\n",
    "bin = np.floor((NFFT + 1) * hz_points / sample_rate)\n",
    "\n",
    "fbank = np.zeros((nfilt, int(np.floor(NFFT / 2 + 1))))\n",
    "for m in range(1, nfilt + 1):\n",
    "    f_m_minus = int(bin[m - 1])   # lewe\n",
    "    f_m = int(bin[m])             # centrum\n",
    "    f_m_plus = int(bin[m + 1])    # prawe\n",
    "\n",
    "    for k in range(f_m_minus, f_m):\n",
    "        fbank[m - 1, k] = (k - bin[m - 1]) / (bin[m] - bin[m - 1])\n",
    "    for k in range(f_m, f_m_plus):\n",
    "        fbank[m - 1, k] = (bin[m + 1] - k) / (bin[m + 1] - bin[m])\n",
    "        \n",
    "filter_banks = np.dot(pow_frames, fbank.T)\n",
    "filter_banks = np.where(filter_banks == 0, np.finfo(float).eps, filter_banks)  # Stabilność numeryczna\n",
    "\n",
    "# Logarytmowanie\n",
    "filter_banks = 20 * np.log10(filter_banks)  # dB\n",
    "\n",
    "# Współczynniki cepstralne częstotliwości mel -- Mel-frequency Cepstral Coefficients (MFCCs)\n",
    "# DCT\n",
    "num_ceps =12 # liczba współczynników - między 2 a 13\n",
    "mfcc = dct(filter_banks, type=2, axis=1, norm='ortho')[:, 1 : (num_ceps + 1)]\n",
    "print(mfcc.shape) # (l.ramek, l.współczynników)\n",
    "print('Długość sygnału:', len(signal))\n",
    "print('Czas w sekundach:', len(signal)/sample_rate)\n",
    "print('Liczba ramek:', num_frames)\n",
    "\n",
    "plt.figure()\n",
    "plt.imshow(mfcc.T)\n",
    "plt.xlabel(\"Liczba ramek\")\n",
    "plt.ylabel(\"Współczynniki MFCC\")"
   ]
  },
  {
   "cell_type": "code",
   "execution_count": null,
   "metadata": {},
   "outputs": [],
   "source": [
    "\n",
    "        "
   ]
  },
  {
   "cell_type": "code",
   "execution_count": null,
   "metadata": {},
   "outputs": [],
   "source": []
  },
  {
   "cell_type": "code",
   "execution_count": null,
   "metadata": {},
   "outputs": [],
   "source": []
  }
 ],
 "metadata": {
  "kernelspec": {
   "display_name": "Python 3",
   "language": "python",
   "name": "python3"
  },
  "language_info": {
   "codemirror_mode": {
    "name": "ipython",
    "version": 3
   },
   "file_extension": ".py",
   "mimetype": "text/x-python",
   "name": "python",
   "nbconvert_exporter": "python",
   "pygments_lexer": "ipython3",
   "version": "3.7.7"
  }
 },
 "nbformat": 4,
 "nbformat_minor": 4
}
