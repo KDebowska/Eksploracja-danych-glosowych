{
 "cells": [
  {
   "cell_type": "code",
   "execution_count": null,
   "metadata": {},
   "outputs": [],
   "source": [
    "#'''Karolina Mięsowicz & Karolina Milewska'''\n",
    "\n",
    "#1\n",
    "#histogram -> bierzemy pod uwagę jedno słowo dla każdej osoby - porównanie - dana godzina dwie osoby\n",
    "#najczęściej występująca częstotliwość (barwa głosu)\n"
   ]
  },
  {
   "cell_type": "code",
   "execution_count": 8,
   "metadata": {},
   "outputs": [],
   "source": [
    "import wave\n",
    "from pydub import AudioSegment as auds\n",
    "import pandas as pd\n",
    "import numpy as np\n",
    "import os, fnmatch\n",
    "from matplotlib import pyplot as plt\n",
    "import scipy.io.wavfile as wf\n",
    "from scipy.integrate import simps\n",
    "import glob"
   ]
  },
  {
   "cell_type": "code",
   "execution_count": 54,
   "metadata": {},
   "outputs": [
    {
     "name": "stdout",
     "output_type": "stream",
     "text": [
      "['\\\\ALARM', '\\\\BRAME', '\\\\BUDZIK', '\\\\CISZEJ', '\\\\CZAJNIK', '\\\\CZTERY', '\\\\DO', '\\\\DOMU', '\\\\DRZWI', '\\\\DWA', '\\\\EKSPRES', '\\\\GABINECIE', '\\\\GARAZ', '\\\\GARAZU', '\\\\GARDEROBIE', '\\\\GLOSNIEJ', '\\\\HERBATE', '\\\\JEDEN', '\\\\KANAL', '\\\\KAWE', '\\\\KLIMATYZACJE', '\\\\KOMPUTER', '\\\\KORYTARZU', '\\\\KUCHNI', '\\\\KWIATKI', '\\\\LAMPKE', '\\\\LAZIENCE', '\\\\LAZIENKI', '\\\\LODOWKE', '\\\\LOZKO', '\\\\MUZYKE', '\\\\NA', '\\\\O', '\\\\ODBLOKUJ', '\\\\ODSLON', '\\\\OGRZEWANIE', '\\\\OKAP', '\\\\OKNA', '\\\\OKNO', '\\\\OPUSC', '\\\\OSWIETLENIE', '\\\\OTWORZ', '\\\\PALNIK', '\\\\PIEKARNIK', '\\\\PIWNICY', '\\\\PODAJ', '\\\\PODGLOSNIJ', '\\\\PODLEJ', '\\\\PODNIES', '\\\\POKOJU', '\\\\PRALKE', '\\\\PROGRAM', '\\\\PRZEDPOKOJU', '\\\\PRZYCIEMNIJ', '\\\\PRZYCISZ', '\\\\PRZYGOTUJ', '\\\\RADIO', '\\\\ROLETY', '\\\\ROZJASNIJ', '\\\\SALONIE', '\\\\SCHODACH', '\\\\SCISZ', '\\\\SPRAWDZ', '\\\\SPUSC', '\\\\STACJE', '\\\\STOPIEN', '\\\\STOPNI', '\\\\STRYCHU', '\\\\SUSZARKE', '\\\\SWIATLO', '\\\\SYPIALNI', '\\\\TARASIE', '\\\\TELEWIZOR', '\\\\TEMPERATURE', '\\\\TRZY', '\\\\UCHYL', '\\\\USTAW', '\\\\W', '\\\\WEJSCIOWE', '\\\\WLACZ', '\\\\WODE', '\\\\WODY', '\\\\WYLACZ', '\\\\Z', '\\\\ZABLOKUJ', '\\\\ZADZWON', '\\\\ZAGOTUJ', '\\\\ZAKREC', '\\\\ZALUZJE', '\\\\ZAMKNIJ', '\\\\ZAPAL', '\\\\ZASLON', '\\\\ZASUN', '\\\\ZEWNATRZ', '\\\\ZGAS', '\\\\ZMIEN', '\\\\ZMNIEJSZ', '\\\\ZMYWARKE', '\\\\ZROB', '\\\\ZWIEKSZ']\n"
     ]
    }
   ],
   "source": [
    "# Sciezka\n",
    "path = 'C:/Users/milka/Documents/Eksploracja/Eksploracja-danych-glosowych-main/Eksploracja-danych-glosowych-main/Nagrania'\n",
    "\n",
    "# Wyciaganie nazw plikow ze sciezki - foldery danego słowa\n",
    "list_of_files = [x[0] for x in os.walk(path)]\n",
    "#pattern = \"*.txt\"\n",
    "#list_of_names = []\n",
    "#for entry in list_of_files:\n",
    "#   if fnmatch.fnmatch(entry, pattern):\n",
    "#            list_of_names.append(entry[:-4])        \n",
    "for dir in range(len(list_of_files)):\n",
    "    #print(len(list_of_files))\n",
    "    list_of_files[dir] = list_of_files[dir].replace(\"C:/Users/milka/Documents/Eksploracja/Eksploracja-danych-glosowych-main/Eksploracja-danych-glosowych-main/Nagrania\" , '')\n",
    "    \n",
    "    \n",
    "del list_of_files[0:2]\n",
    "\n",
    "print(list_of_files)"
   ]
  },
  {
   "cell_type": "code",
   "execution_count": 56,
   "metadata": {},
   "outputs": [
    {
     "name": "stdout",
     "output_type": "stream",
     "text": [
      "C:/Users/milka/Documents/Eksploracja/Eksploracja-danych-glosowych-main/Eksploracja-danych-glosowych-main/Nagrania\\DO\n"
     ]
    }
   ],
   "source": [
    "#NA RAZIE NIEPOTRZEBNE\n",
    "nr_slowa = 6 #tu nr słowa\n",
    "sciezka_do_slowa = path + list_of_files[nr_slowa]\n",
    "print(sciezka_do_slowa)\n",
    "lista_nr_indeksow = ['297761','289516','289540','289550','289556','404907']\n"
   ]
  },
  {
   "cell_type": "code",
   "execution_count": 87,
   "metadata": {},
   "outputs": [
    {
     "data": {
      "image/png": "[encoded data removed]",
      "text/plain": [
       "<Figure size 432x288 with 1 Axes>"
      ]
     },
     "metadata": {
      "needs_background": "light"
     },
     "output_type": "display_data"
    },
    {
     "name": "stdout",
     "output_type": "stream",
     "text": [
      "Dominująca częstotliwość osoby pierwszej: 1345342729.0\n",
      "Dominująca częstotliwość osoby drugiej: 177867418.0\n"
     ]
    },
    {
     "data": {
      "image/png": "[encoded data removed]",
      "text/plain": [
       "<Figure size 432x288 with 1 Axes>"
      ]
     },
     "metadata": {
      "needs_background": "light"
     },
     "output_type": "display_data"
    }
   ],
   "source": [
    "#porównanie dwóch osób o dowolnej godzinie\n",
    "\n",
    "osoba1 = 'C:/Users/milka/Documents/Eksploracja/Eksploracja-danych-glosowych-main/Eksploracja-danych-glosowych-main/Nagrania/BRAME/289550_23_K_9_1_BRAME.wav'\n",
    "osoba2 = 'C:/Users/milka/Documents/Eksploracja/Eksploracja-danych-glosowych-main/Eksploracja-danych-glosowych-main/Nagrania/BRAME/289540_23_K_9_1_BRAME.wav'\n",
    "osoba_03 = []\n",
    "word1 = wave.open(osoba1, 'rb')\n",
    "        # Jeśli ilość ramek nieparzysta, to nie zadziała, więc wtedy wczytujemy wszystkie ramki oprócz ostatniej\n",
    "if word1.getnframes() % 2 != 0:\n",
    "    word1_frames = word1.readframes(word1.getnframes()-1)\n",
    "else:\n",
    "    word1_frames = word1.readframes(word1.getnframes())\n",
    "word1_frames = np.frombuffer(word1_frames, dtype=int) #amplitudy\n",
    "osoba_03.append(word1_frames)\n",
    "# plt.figure()\n",
    "# plt.plot(word1_frames)\n",
    "# plt.title('osoba1')\n",
    "# plt.show()\n",
    "\n",
    "#print(len(word1_frames))\n",
    "\n",
    "word2 = wave.open(osoba2, 'rb')\n",
    "        # Jeśli ilość ramek nieparzysta, to nie zadziała, więc wtedy wczytujemy wszystkie ramki oprócz ostatniej\n",
    "if word2.getnframes() % 2 != 0:\n",
    "    word2_frames = word2.readframes(word2.getnframes()-1)\n",
    "else:\n",
    "    word2_frames = word2.readframes(word2.getnframes())\n",
    "word2_frames = np.frombuffer(word2_frames, dtype=int) #amplitudy\n",
    "osoba_03.append(word2_frames)\n",
    "# plt.figure()\n",
    "# plt.plot(word2_frames)\n",
    "# plt.title('osoba2')\n",
    "# plt.show()\n",
    "\n",
    "#print(len(word2_frames))\n",
    "\n",
    "word1_frame = np.array(word1_frames)\n",
    "word2_frame = np.array(word2_frames)\n",
    "\n",
    "word1_frame = word1_frame[0:19000]\n",
    "word2_frame = word2_frame[0:19000]\n",
    "\n",
    "#bins = np.linspace(1,20000,len(word1_frame))\n",
    "\n",
    "plt.figure()\n",
    "plt.title('PORÓWNANIE CZĘSTOTLIWOŚCI GŁOSU DWÓCH ROŻNYCH OSÓB O DWOWOLNEJ PORZE')\n",
    "y1,x1,_ = plt.hist(word1_frames,bins=100,alpha=0.5,label='osoba1')\n",
    "y2,x2,_ = plt.hist(word2_frames,bins=100,alpha=0.5,label='osoba2')\n",
    "plt.ylim([0,6000])\n",
    "plt.legend()\n",
    "plt.show()\n",
    "\n",
    "#częstotliwości dominujące głosu\n",
    "\n",
    "#różne osoby:\n",
    "print('Dominująca częstotliwość osoby pierwszej:', x1.max())\n",
    "print('Dominująca częstotliwość osoby drugiej:', x2.max())\n",
    "\n",
    "\n",
    "#porownanie tego samego słowa o innej godzinie dla tej samej osoby\n",
    "\n",
    "osoba1 = 'C:/Users/milka/Documents/Eksploracja/Eksploracja-danych-glosowych-main/Eksploracja-danych-glosowych-main/Nagrania/BRAME/289550_23_K_9_1_BRAME.wav'\n",
    "osoba2 = 'C:/Users/milka/Documents/Eksploracja/Eksploracja-danych-glosowych-main/Eksploracja-danych-glosowych-main/Nagrania/BRAME/289550_23_K_18_2_BRAME.wav'\n",
    "osoba_03 = []\n",
    "word1 = wave.open(osoba1, 'rb')\n",
    "        # Jeśli ilość ramek nieparzysta, to nie zadziała, więc wtedy wczytujemy wszystkie ramki oprócz ostatniej\n",
    "if word1.getnframes() % 2 != 0:\n",
    "    word1_frames = word1.readframes(word1.getnframes()-1)\n",
    "else:\n",
    "    word1_frames = word1.readframes(word1.getnframes())\n",
    "word1_frames = np.frombuffer(word1_frames, dtype=int) #amplitudy\n",
    "osoba_03.append(word1_frames)\n",
    "#plt.figure()\n",
    "#plt.plot(word1_frames)\n",
    "#plt.title('osoba1')\n",
    "#plt.show()\n",
    "\n",
    "#print(len(word1_frames))\n",
    "\n",
    "word2 = wave.open(osoba2, 'rb')\n",
    "        # Jeśli ilość ramek nieparzysta, to nie zadziała, więc wtedy wczytujemy wszystkie ramki oprócz ostatniej\n",
    "if word2.getnframes() % 2 != 0:\n",
    "    word2_frames = word2.readframes(word2.getnframes()-1)\n",
    "else:\n",
    "    word2_frames = word2.readframes(word2.getnframes())\n",
    "word2_frames = np.frombuffer(word2_frames, dtype=int) #amplitudy\n",
    "osoba_03.append(word2_frames)\n",
    "#plt.figure()\n",
    "#plt.plot(word2_frames)\n",
    "#plt.title('osoba2')\n",
    "#plt.show()\n",
    "\n",
    "#print(len(word2_frames))\n",
    "\n",
    "word1_frame = np.array(word1_frames)\n",
    "word2_frame = np.array(word2_frames)\n",
    "\n",
    "word1_frame = word1_frame[0:19000]\n",
    "word2_frame = word2_frame[0:19000]\n",
    "\n",
    "#bins = np.linspace(1,20000,len(word1_frame))\n",
    "\n",
    "plt.figure()\n",
    "plt.title(\"PORÓWNANIE TEJ sAMEJ OSOBY W DWÓCH RÓŻNYCH PORACH DNIA\")\n",
    "plt.hist(word1_frames,bins=100,alpha=0.5,label='osoba1')\n",
    "plt.hist(word2_frames,bins=100,alpha=0.5,label='osoba2')\n",
    "plt.ylim([0,6000])\n",
    "plt.legend()\n",
    "plt.show()\n"
   ]
  },
  {
   "cell_type": "code",
   "execution_count": null,
   "metadata": {},
   "outputs": [],
   "source": [
    "\n"
   ]
  }
 ],
 "metadata": {
  "kernelspec": {
   "display_name": "Python 3",
   "language": "python",
   "name": "python3"
  },
  "language_info": {
   "codemirror_mode": {
    "name": "ipython",
    "version": 3
   },
   "file_extension": ".py",
   "mimetype": "text/x-python",
   "name": "python",
   "nbconvert_exporter": "python",
   "pygments_lexer": "ipython3",
   "version": "3.8.3"
  }
 },
 "nbformat": 4,
 "nbformat_minor": 4
}
